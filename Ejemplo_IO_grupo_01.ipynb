{
  "nbformat": 4,
  "nbformat_minor": 0,
  "metadata": {
    "colab": {
      "provenance": [],
      "toc_visible": true,
      "include_colab_link": true
    },
    "kernelspec": {
      "name": "python3",
      "display_name": "Python 3"
    },
    "language_info": {
      "name": "python"
    }
  },
  "cells": [
    {
      "cell_type": "markdown",
      "metadata": {
        "id": "view-in-github",
        "colab_type": "text"
      },
      "source": [
        "<a href=\"https://colab.research.google.com/github/Mateo420v2/Yo/blob/main/Ejemplo_IO_grupo_01.ipynb\" target=\"_parent\"><img src=\"https://colab.research.google.com/assets/colab-badge.svg\" alt=\"Open In Colab\"/></a>"
      ]
    },
    {
      "cell_type": "markdown",
      "source": [
        "# Esto es un título\n",
        "\n",
        "Ejemplo de textos con **negrillas** e *itálicas*\n",
        "\n",
        "[Chatgpt](https://chat.openai.com/auth/login)"
      ],
      "metadata": {
        "id": "nkwANHplAC_H"
      }
    },
    {
      "cell_type": "code",
      "execution_count": null,
      "metadata": {
        "colab": {
          "base_uri": "https://localhost:8080/"
        },
        "id": "gNMUFyGe_13A",
        "outputId": "5658e041-61ef-4f14-dda8-ef924dddcd58"
      },
      "outputs": [
        {
          "output_type": "stream",
          "name": "stdout",
          "text": [
            "Hola mundo\n"
          ]
        }
      ],
      "source": [
        "# ejemplo de hola mundo\n",
        "print(\"Hola mundo\")"
      ]
    },
    {
      "cell_type": "code",
      "source": [],
      "metadata": {
        "id": "5uuBCMp6AHD-"
      },
      "execution_count": null,
      "outputs": []
    },
    {
      "cell_type": "markdown",
      "source": [
        "## Subtítulo principal\n"
      ],
      "metadata": {
        "id": "CkH2VGYiAHps"
      }
    },
    {
      "cell_type": "markdown",
      "source": [
        "### s"
      ],
      "metadata": {
        "id": "estzC1WQBHvc"
      }
    }
  ]
}